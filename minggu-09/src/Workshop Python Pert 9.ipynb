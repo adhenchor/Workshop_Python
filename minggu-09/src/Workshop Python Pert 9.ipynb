{
 "cells": [
  {
   "cell_type": "code",
   "execution_count": null,
   "id": "e57011db",
   "metadata": {},
   "outputs": [],
   "source": [
    "python3 -m venv tutorial-env"
   ]
  },
  {
   "cell_type": "code",
   "execution_count": null,
   "id": "29a7a637",
   "metadata": {},
   "outputs": [],
   "source": [
    "tutorial-env\\Scripts\\activate.bat\n"
   ]
  },
  {
   "cell_type": "code",
   "execution_count": null,
   "id": "5d5c3035",
   "metadata": {},
   "outputs": [],
   "source": [
    "source tutorial-env/bin/activate\n"
   ]
  },
  {
   "cell_type": "code",
   "execution_count": null,
   "id": "73d5d9c6",
   "metadata": {},
   "outputs": [],
   "source": [
    "$ source ~/envs/tutorial-env/bin/activate\n",
    "(tutorial-env) $ python\n",
    "Python 3.5.1 (default, May  6 2016, 10:59:36)\n",
    "  ...\n",
    ">>> import sys\n",
    ">>> sys.path\n",
    "['', '/usr/local/lib/python35.zip', ...,\n",
    "'~/envs/tutorial-env/lib/python3.5/site-packages']\n",
    ">>>"
   ]
  },
  {
   "cell_type": "code",
   "execution_count": null,
   "id": "3cc72e1d",
   "metadata": {},
   "outputs": [],
   "source": [
    "(tutorial-env) $ python -m pip install novas\n",
    "Collecting novas\n",
    "  Downloading novas-3.1.1.3.tar.gz (136kB)\n",
    "Installing collected packages: novas\n",
    "  Running setup.py install for novas\n",
    "Successfully installed novas-3.1.1.3"
   ]
  },
  {
   "cell_type": "code",
   "execution_count": null,
   "id": "c2973fad",
   "metadata": {},
   "outputs": [],
   "source": [
    "(tutorial-env) $ python -m pip install requests==2.6.0\n",
    "Collecting requests==2.6.0\n",
    "  Using cached requests-2.6.0-py2.py3-none-any.whl\n",
    "Installing collected packages: requests\n",
    "Successfully installed requests-2.6.0"
   ]
  },
  {
   "cell_type": "code",
   "execution_count": null,
   "id": "ec27fc77",
   "metadata": {},
   "outputs": [],
   "source": [
    "(tutorial-env) $ python -m pip install --upgrade requests\n",
    "Collecting requests\n",
    "Installing collected packages: requests\n",
    "  Found existing installation: requests 2.6.0\n",
    "    Uninstalling requests-2.6.0:\n",
    "      Successfully uninstalled requests-2.6.0\n",
    "Successfully installed requests-2.7.0\n",
    "\n"
   ]
  },
  {
   "cell_type": "code",
   "execution_count": null,
   "id": "453d37ad",
   "metadata": {},
   "outputs": [],
   "source": [
    "(tutorial-env) $ pip show requests\n",
    "---\n",
    "Metadata-Version: 2.0\n",
    "Name: requests\n",
    "Version: 2.7.0\n",
    "Summary: Python HTTP for Humans.\n",
    "Home-page: http://python-requests.org\n",
    "Author: Kenneth Reitz\n",
    "Author-email: me@kennethreitz.com\n",
    "License: Apache 2.0\n",
    "Location: /Users/akuchling/envs/tutorial-env/lib/python3.4/site-packages\n",
    "Requires:\n"
   ]
  },
  {
   "cell_type": "code",
   "execution_count": null,
   "id": "3dd2e186",
   "metadata": {},
   "outputs": [],
   "source": [
    "\n",
    "(tutorial-env) $ pip list\n",
    "novas (3.1.1.3)\n",
    "numpy (1.9.2)\n",
    "pip (7.0.3)\n",
    "requests (2.7.0)\n",
    "setuptools (16.0)\n"
   ]
  },
  {
   "cell_type": "code",
   "execution_count": null,
   "id": "3db833f0",
   "metadata": {},
   "outputs": [],
   "source": [
    "(tutorial-env) $ pip freeze > requirements.txt\n",
    "(tutorial-env) $ cat requirements.txt\n",
    "novas==3.1.1.3\n",
    "numpy==1.9.2\n",
    "requests==2.7.0\n"
   ]
  },
  {
   "cell_type": "code",
   "execution_count": null,
   "id": "5cd3f6bc",
   "metadata": {},
   "outputs": [],
   "source": [
    "(tutorial-env) $ python -m pip install -r requirements.txt\n",
    "Collecting novas==3.1.1.3 (from -r requirements.txt (line 1))\n",
    "  ...\n",
    "Collecting numpy==1.9.2 (from -r requirements.txt (line 2))\n",
    "  ...\n",
    "Collecting requests==2.7.0 (from -r requirements.txt (line 3))\n",
    "  ...\n",
    "Installing collected packages: novas, numpy, requests\n",
    "  Running setup.py install for novas\n",
    "Successfully installed novas-3.1.1.3 numpy-1.9.2 requests-2.7.0\n"
   ]
  },
  {
   "cell_type": "code",
   "execution_count": null,
   "id": "065189d2",
   "metadata": {},
   "outputs": [],
   "source": [
    "conda --version\n"
   ]
  },
  {
   "cell_type": "code",
   "execution_count": null,
   "id": "fc7a85ff",
   "metadata": {},
   "outputs": [],
   "source": [
    "conda update conda\n",
    "Proceed ([y]/n)? y\n"
   ]
  },
  {
   "cell_type": "code",
   "execution_count": null,
   "id": "ce27e8eb",
   "metadata": {},
   "outputs": [],
   "source": [
    "conda create --name snowflakes biopython\n",
    "Proceed ([y]/n)? y"
   ]
  },
  {
   "cell_type": "code",
   "execution_count": null,
   "id": "b28ea45d",
   "metadata": {},
   "outputs": [],
   "source": [
    "conda info -e\n"
   ]
  },
  {
   "cell_type": "code",
   "execution_count": null,
   "id": "ac0095b4",
   "metadata": {},
   "outputs": [],
   "source": [
    "conda create --name snakes python=3.9\n"
   ]
  },
  {
   "cell_type": "code",
   "execution_count": null,
   "id": "f6c745b8",
   "metadata": {},
   "outputs": [],
   "source": [
    "Conda activate snakes"
   ]
  },
  {
   "cell_type": "code",
   "execution_count": null,
   "id": "846e372d",
   "metadata": {},
   "outputs": [],
   "source": [
    "conda info --envs\n"
   ]
  },
  {
   "cell_type": "code",
   "execution_count": null,
   "id": "5e61fb62",
   "metadata": {},
   "outputs": [],
   "source": [
    "python --version"
   ]
  },
  {
   "cell_type": "code",
   "execution_count": null,
   "id": "98aeda0d",
   "metadata": {},
   "outputs": [],
   "source": [
    "conda search beautifulsoup4"
   ]
  },
  {
   "cell_type": "code",
   "execution_count": null,
   "id": "441861ca",
   "metadata": {},
   "outputs": [],
   "source": [
    "conda list"
   ]
  }
 ],
 "metadata": {
  "kernelspec": {
   "display_name": "Python 3 (ipykernel)",
   "language": "python",
   "name": "python3"
  },
  "language_info": {
   "codemirror_mode": {
    "name": "ipython",
    "version": 3
   },
   "file_extension": ".py",
   "mimetype": "text/x-python",
   "name": "python",
   "nbconvert_exporter": "python",
   "pygments_lexer": "ipython3",
   "version": "3.9.7"
  }
 },
 "nbformat": 4,
 "nbformat_minor": 5
}
